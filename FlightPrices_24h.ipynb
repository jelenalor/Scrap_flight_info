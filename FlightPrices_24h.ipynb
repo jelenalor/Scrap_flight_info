{
 "cells": [
  {
   "cell_type": "code",
   "execution_count": 85,
   "metadata": {},
   "outputs": [],
   "source": [
    "import numpy as np\n",
    "import pandas as pd\n",
    "import seaborn as sns\n",
    "import matplotlib.pyplot as plt\n",
    "%matplotlib inline"
   ]
  },
  {
   "cell_type": "code",
   "execution_count": 80,
   "metadata": {},
   "outputs": [
    {
     "data": {
      "text/html": [
       "<div>\n",
       "<style scoped>\n",
       "    .dataframe tbody tr th:only-of-type {\n",
       "        vertical-align: middle;\n",
       "    }\n",
       "\n",
       "    .dataframe tbody tr th {\n",
       "        vertical-align: top;\n",
       "    }\n",
       "\n",
       "    .dataframe thead th {\n",
       "        text-align: right;\n",
       "    }\n",
       "</style>\n",
       "<table border=\"1\" class=\"dataframe\">\n",
       "  <thead>\n",
       "    <tr style=\"text-align: right;\">\n",
       "      <th></th>\n",
       "      <th>current_date</th>\n",
       "      <th>current_time</th>\n",
       "      <th>departure_time</th>\n",
       "      <th>arrival_time</th>\n",
       "      <th>airline</th>\n",
       "      <th>duration</th>\n",
       "      <th>stops</th>\n",
       "      <th>price</th>\n",
       "      <th>dep_airport</th>\n",
       "      <th>arr_airport</th>\n",
       "      <th>operated_by</th>\n",
       "      <th>other</th>\n",
       "    </tr>\n",
       "  </thead>\n",
       "  <tbody>\n",
       "    <tr>\n",
       "      <th>0</th>\n",
       "      <td>2019-7-15</td>\n",
       "      <td>17:49</td>\n",
       "      <td>7:00pm</td>\n",
       "      <td>7:10am</td>\n",
       "      <td>Norwegian Air UK</td>\n",
       "      <td>6h 55m</td>\n",
       "      <td>(Nonstop)</td>\n",
       "      <td>$1,006</td>\n",
       "      <td>Liberty Intl. (EWR)</td>\n",
       "      <td>Heathrow (LHR)</td>\n",
       "      <td>United 14</td>\n",
       "      <td>Boeing 767-300 | Dinner</td>\n",
       "    </tr>\n",
       "    <tr>\n",
       "      <th>1</th>\n",
       "      <td>2019-7-15</td>\n",
       "      <td>17:49</td>\n",
       "      <td>11:25am</td>\n",
       "      <td>11:20pm</td>\n",
       "      <td>Norwegian Air UK</td>\n",
       "      <td>7h 0m</td>\n",
       "      <td>(Nonstop)</td>\n",
       "      <td>$1,051</td>\n",
       "      <td>John F. Kennedy Intl. (JFK)</td>\n",
       "      <td>Gatwick (LGW)</td>\n",
       "      <td>Norwegian Air UK 7914 operated by Evelop Airlines</td>\n",
       "      <td>Airbus A330-300 | Food and beverage for purchase</td>\n",
       "    </tr>\n",
       "  </tbody>\n",
       "</table>\n",
       "</div>"
      ],
      "text/plain": [
       "  current_date current_time departure_time arrival_time           airline  \\\n",
       "0    2019-7-15        17:49         7:00pm       7:10am  Norwegian Air UK   \n",
       "1    2019-7-15        17:49        11:25am      11:20pm  Norwegian Air UK   \n",
       "\n",
       "  duration      stops   price                  dep_airport     arr_airport  \\\n",
       "0   6h 55m  (Nonstop)  $1,006          Liberty Intl. (EWR)  Heathrow (LHR)   \n",
       "1    7h 0m  (Nonstop)  $1,051  John F. Kennedy Intl. (JFK)   Gatwick (LGW)   \n",
       "\n",
       "                                         operated_by  \\\n",
       "0                                          United 14   \n",
       "1  Norwegian Air UK 7914 operated by Evelop Airlines   \n",
       "\n",
       "                                              other  \n",
       "0                           Boeing 767-300 | Dinner  \n",
       "1  Airbus A330-300 | Food and beverage for purchase  "
      ]
     },
     "execution_count": 80,
     "metadata": {},
     "output_type": "execute_result"
    }
   ],
   "source": [
    "data = pd.read_csv(r\"dataset16072019.csv\")\n",
    "data.head(2)"
   ]
  },
  {
   "cell_type": "markdown",
   "metadata": {},
   "source": [
    "### Data Cleaning"
   ]
  },
  {
   "cell_type": "code",
   "execution_count": 81,
   "metadata": {},
   "outputs": [],
   "source": [
    "# Separate 'other' column\n",
    "data[\"plane\"] = [x.split(\"|\")[0] for x in data[\"other\"]]\n",
    "data[\"extra\"] = [x.split(\"|\")[1] if (len(x.split(\"|\")) == 2) else \"NA\" for x in data[\"other\"]]\n",
    "\n",
    "#Convert times and dates to datetime\n",
    "# 1) Make date month in the zero padded format - for datetime format\n",
    "data[\"current_date\"] = [x.split(\"-\")[0]+\"-0\"+x.split(\"-\")[1]+\"-\"+x.split(\"-\")[2] for x in data[\"current_date\"]]\n",
    "data[\"scrap_datetime\"] = pd.to_datetime(data[\"current_date\"] + \"-\" + data[\"current_time\"], format='%Y-%m-%d-%H:%M', errors='ignore')\n",
    "\n",
    "data[\"arrival_datetime\"] = pd.to_datetime(data[\"arrival_time\"], format='%I:%M%p').dt.strftime('%H:%M:%S')\n",
    "data[\"departure_datetime\"] = pd.to_datetime(data[\"departure_time\"], format='%I:%M%p').dt.strftime('%H:%M:%S')\n",
    "\n",
    "# Conver flight departure into 2 buckets -> Morning flight, and Night flights (any flight arriving in the morning) \n",
    "def createFlightType(row):\n",
    "    # if arrival time is before 11 in the morning - night flight\n",
    "    if row < '12:00:00' and row > '02:00:00':\n",
    "        return \"night\"\n",
    "    else:\n",
    "        return \"day\"\n",
    "data[\"flight_type\"] = data[\"arrival_datetime\"].apply(lambda x: createFlightType(x))\n",
    "\n",
    "#Create duration in minutes\n",
    "def durationToMinutes(row):\n",
    "    hours = int(\"\".join(list(row.split()[0])[:-1]))\n",
    "    minutes = int(\"\".join(list(row.split()[1])[:-1]))\n",
    "    duration_in_minutes = hours * 60 + minutes\n",
    "    return duration_in_minutes\n",
    "data[\"duration_minutes\"] = data[\"duration\"].apply(lambda x: durationToMinutes)\n",
    "\n",
    "\n",
    "# Drop stops - the datasets only includes nonstop flights\n",
    "# Drop other columns\n",
    "data.drop([\"stops\", \"other\", \"departure_time\", \"arrival_time\", \"current_date\", \"current_time\"], axis =1, inplace = True)"
   ]
  },
  {
   "cell_type": "code",
   "execution_count": 145,
   "metadata": {},
   "outputs": [
    {
     "data": {
      "text/html": [
       "<div>\n",
       "<style scoped>\n",
       "    .dataframe tbody tr th:only-of-type {\n",
       "        vertical-align: middle;\n",
       "    }\n",
       "\n",
       "    .dataframe tbody tr th {\n",
       "        vertical-align: top;\n",
       "    }\n",
       "\n",
       "    .dataframe thead th {\n",
       "        text-align: right;\n",
       "    }\n",
       "</style>\n",
       "<table border=\"1\" class=\"dataframe\">\n",
       "  <thead>\n",
       "    <tr style=\"text-align: right;\">\n",
       "      <th></th>\n",
       "      <th>airline</th>\n",
       "      <th>duration</th>\n",
       "      <th>price</th>\n",
       "      <th>dep_airport</th>\n",
       "      <th>arr_airport</th>\n",
       "      <th>operated_by</th>\n",
       "      <th>plane</th>\n",
       "      <th>extra</th>\n",
       "      <th>scrap_datetime</th>\n",
       "      <th>arrival_datetime</th>\n",
       "      <th>departure_datetime</th>\n",
       "      <th>duration_minutes</th>\n",
       "      <th>flight_type</th>\n",
       "    </tr>\n",
       "  </thead>\n",
       "  <tbody>\n",
       "    <tr>\n",
       "      <th>0</th>\n",
       "      <td>Norwegian Air UK</td>\n",
       "      <td>6h 55m</td>\n",
       "      <td>$1,006</td>\n",
       "      <td>Liberty Intl. (EWR)</td>\n",
       "      <td>Heathrow (LHR)</td>\n",
       "      <td>United 14</td>\n",
       "      <td>Boeing 767-300</td>\n",
       "      <td>Dinner</td>\n",
       "      <td>2019-07-15 17:49:00</td>\n",
       "      <td>07:10:00</td>\n",
       "      <td>19:00:00</td>\n",
       "      <td>415</td>\n",
       "      <td>night</td>\n",
       "    </tr>\n",
       "    <tr>\n",
       "      <th>1</th>\n",
       "      <td>Norwegian Air UK</td>\n",
       "      <td>7h 0m</td>\n",
       "      <td>$1,051</td>\n",
       "      <td>John F. Kennedy Intl. (JFK)</td>\n",
       "      <td>Gatwick (LGW)</td>\n",
       "      <td>Norwegian Air UK 7914 operated by Evelop Airlines</td>\n",
       "      <td>Airbus A330-300</td>\n",
       "      <td>Food and beverage for purchase</td>\n",
       "      <td>2019-07-15 17:49:00</td>\n",
       "      <td>23:20:00</td>\n",
       "      <td>11:25:00</td>\n",
       "      <td>420</td>\n",
       "      <td>day</td>\n",
       "    </tr>\n",
       "  </tbody>\n",
       "</table>\n",
       "</div>"
      ],
      "text/plain": [
       "            airline duration   price                  dep_airport  \\\n",
       "0  Norwegian Air UK   6h 55m  $1,006          Liberty Intl. (EWR)   \n",
       "1  Norwegian Air UK    7h 0m  $1,051  John F. Kennedy Intl. (JFK)   \n",
       "\n",
       "      arr_airport                                        operated_by  \\\n",
       "0  Heathrow (LHR)                                          United 14   \n",
       "1   Gatwick (LGW)  Norwegian Air UK 7914 operated by Evelop Airlines   \n",
       "\n",
       "              plane                            extra      scrap_datetime  \\\n",
       "0   Boeing 767-300                            Dinner 2019-07-15 17:49:00   \n",
       "1  Airbus A330-300    Food and beverage for purchase 2019-07-15 17:49:00   \n",
       "\n",
       "  arrival_datetime departure_datetime  duration_minutes flight_type  \n",
       "0         07:10:00           19:00:00               415       night  \n",
       "1         23:20:00           11:25:00               420         day  "
      ]
     },
     "execution_count": 145,
     "metadata": {},
     "output_type": "execute_result"
    }
   ],
   "source": [
    "# Clean dataset\n",
    "data.head(2)"
   ]
  },
  {
   "cell_type": "markdown",
   "metadata": {},
   "source": [
    "### Exploratory Data Analysis"
   ]
  },
  {
   "cell_type": "markdown",
   "metadata": {},
   "source": [
    "1) What is the most popular airline?"
   ]
  },
  {
   "cell_type": "code",
   "execution_count": 107,
   "metadata": {},
   "outputs": [
    {
     "data": {
      "image/png": "[encoded data removed]",
      "text/plain": [
       "<Figure size 1440x288 with 1 Axes>"
      ]
     },
     "metadata": {
      "needs_background": "light"
     },
     "output_type": "display_data"
    }
   ],
   "source": [
    "plt.figure(figsize = (20, 4))\n",
    "v, c = np.unique(data[\"airline\"], return_counts=True)\n",
    "sns.countplot(data = data, x = \"airline\", color = \"#458B74\", order = v[np.argsort(c)[::-1]] )\n",
    "plt.show()"
   ]
  },
  {
   "cell_type": "code",
   "execution_count": null,
   "metadata": {},
   "outputs": [],
   "source": []
  },
  {
   "cell_type": "code",
   "execution_count": 143,
   "metadata": {},
   "outputs": [],
   "source": []
  },
  {
   "cell_type": "code",
   "execution_count": 144,
   "metadata": {},
   "outputs": [],
   "source": []
  },
  {
   "cell_type": "code",
   "execution_count": null,
   "metadata": {},
   "outputs": [],
   "source": []
  },
  {
   "cell_type": "code",
   "execution_count": 147,
   "metadata": {},
   "outputs": [
    {
     "data": {
      "image/png": "[encoded data removed]",
      "text/plain": [
       "<Figure size 1440x216 with 1 Axes>"
      ]
     },
     "metadata": {
      "needs_background": "light"
     },
     "output_type": "display_data"
    }
   ],
   "source": [
    "plt.figure(figsize = (20, 3))\n",
    "sns.countplot(data = data, x = \"arrival_datetime\", color = \"#EE3B3B\", order = np.sort(data[\"arrival_datetime\"].unique()))\n",
    "plt.xticks(rotation = 90)\n",
    "plt.show()"
   ]
  },
  {
   "cell_type": "code",
   "execution_count": 148,
   "metadata": {},
   "outputs": [
    {
     "data": {
      "image/png": "[encoded data removed]",
      "text/plain": [
       "<Figure size 1440x216 with 1 Axes>"
      ]
     },
     "metadata": {
      "needs_background": "light"
     },
     "output_type": "display_data"
    }
   ],
   "source": [
    "plt.figure(figsize = (20, 3))\n",
    "sns.countplot(data = data, x = \"departure_datetime\", color = \"#EE3B3B\", order = np.sort(data[\"departure_datetime\"].unique()))\n",
    "plt.xticks(rotation = 90)\n",
    "plt.show()"
   ]
  },
  {
   "cell_type": "code",
   "execution_count": null,
   "metadata": {},
   "outputs": [],
   "source": []
  },
  {
   "cell_type": "code",
   "execution_count": null,
   "metadata": {},
   "outputs": [],
   "source": []
  },
  {
   "cell_type": "code",
   "execution_count": null,
   "metadata": {},
   "outputs": [],
   "source": []
  },
  {
   "cell_type": "code",
   "execution_count": null,
   "metadata": {},
   "outputs": [],
   "source": []
  }
 ],
 "metadata": {
  "kernelspec": {
   "display_name": "Python 3",
   "language": "python",
   "name": "python3"
  },
  "language_info": {
   "codemirror_mode": {
    "name": "ipython",
    "version": 3
   },
   "file_extension": ".py",
   "mimetype": "text/x-python",
   "name": "python",
   "nbconvert_exporter": "python",
   "pygments_lexer": "ipython3",
   "version": "3.7.3"
  }
 },
 "nbformat": 4,
 "nbformat_minor": 2
}
